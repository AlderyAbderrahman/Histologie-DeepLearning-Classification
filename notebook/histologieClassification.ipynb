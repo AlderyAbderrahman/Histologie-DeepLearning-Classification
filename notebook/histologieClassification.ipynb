{
 "cells": [
  {
   "cell_type": "code",
   "execution_count": 38,
   "id": "ca800395",
   "metadata": {},
   "outputs": [],
   "source": [
    "import torch\n",
    "import torch.nn as nn\n",
    "from torch.utils.data import DataLoader\n",
    "from torchvision import datasets, transforms, models\n",
    "import os\n",
    "import torch.optim as optim\n"
   ]
  },
  {
   "cell_type": "markdown",
   "id": "93d29a75",
   "metadata": {},
   "source": [
    " ## 2. Préparer les transformations (prétraitement et augmentation)\n",
    "👉 Les images doivent être mises à la même taille et normalisées pour ResNet. 👉 Pour l’entraînement, on ajoute des augmentations (flip, rotation) pour aider le modèle à mieux généraliser."
   ]
  },
  {
   "cell_type": "code",
   "execution_count": 40,
   "id": "e8c4a147",
   "metadata": {},
   "outputs": [],
   "source": [
    "train_transforms = transforms.Compose([\n",
    "    transforms.Resize((224, 224)),\n",
    "    transforms.RandomHorizontalFlip(),\n",
    "    transforms.ToTensor(),\n",
    "    transforms.Normalize([0.485, 0.456, 0.406], [0.229, 0.224, 0.225]) \n",
    "])\n",
    "\n",
    "val_transforms = transforms.Compose([\n",
    "    transforms.Resize((224, 224)),\n",
    "    transforms.ToTensor(),\n",
    "    transforms.Normalize([0.485, 0.456, 0.406], [0.229, 0.224, 0.225])\n",
    "])\n"
   ]
  },
  {
   "cell_type": "markdown",
   "id": "fa66414e",
   "metadata": {},
   "source": [
    "## 3 Chargement de la dataset avec ces transformations + Creation des Datalaoders :"
   ]
  },
  {
   "cell_type": "code",
   "execution_count": 41,
   "id": "ef25e32e",
   "metadata": {},
   "outputs": [],
   "source": [
    "train_dataset = datasets.ImageFolder(root='data/train', transform=train_transforms)\n",
    "val_dataset = datasets.ImageFolder(root='data/val', transform=val_transforms)\n",
    "train_loader = DataLoader(train_dataset, batch_size=32, shuffle=True, num_workers=4)\n",
    "val_loader = DataLoader(val_dataset, batch_size=32, shuffle=False, num_workers=4)\n"
   ]
  },
  {
   "cell_type": "markdown",
   "id": "c283b54a",
   "metadata": {},
   "source": [
    "## 4 preparation de modéle (ResNet18) :"
   ]
  },
  {
   "cell_type": "code",
   "execution_count": 42,
   "id": "0ee153b5",
   "metadata": {},
   "outputs": [],
   "source": [
    "model = models.resnet18(pretrained=True)   # Charger un modèle pré-entraîné\n",
    "num_features = model.fc.in_features\n",
    "model.fc = nn.Linear(num_features,2)  \n",
    "criterion = nn.CrossEntropyLoss()  # fonction de perte pour la classification\n",
    "optimizer = optim.Adam(model.parameters(), lr=0.001)  # optimiseur"
   ]
  },
  {
   "cell_type": "markdown",
   "id": "b7c13cd2",
   "metadata": {},
   "source": [
    "## Entrainement de modéle : "
   ]
  },
  {
   "cell_type": "code",
   "execution_count": 44,
   "id": "2edf26c0",
   "metadata": {},
   "outputs": [
    {
     "name": "stdout",
     "output_type": "stream",
     "text": [
      "--- Epoch 1/5 ---\n",
      "Train Loss: 0.4219\n",
      "Validation Accuracy: 66.93%\n",
      "💾 Modèle sauvegardé ! (meilleur jusqu'ici)\n",
      "--- Epoch 2/5 ---\n",
      "Train Loss: 0.2500\n",
      "Validation Accuracy: 90.85%\n",
      "💾 Modèle sauvegardé ! (meilleur jusqu'ici)\n",
      "--- Epoch 3/5 ---\n",
      "Train Loss: 0.1920\n",
      "Validation Accuracy: 93.41%\n",
      "💾 Modèle sauvegardé ! (meilleur jusqu'ici)\n",
      "--- Epoch 4/5 ---\n",
      "Train Loss: 0.1886\n",
      "Validation Accuracy: 90.85%\n",
      "--- Epoch 5/5 ---\n",
      "Train Loss: 0.1606\n",
      "Validation Accuracy: 71.65%\n"
     ]
    }
   ],
   "source": [
    "n_epochs = 5  # nombre d'époques\n",
    "best_acc = 0.0  # pour sauvegarder le meilleur modèle\n",
    "\n",
    "for epoch in range(n_epochs):\n",
    "    print(f\"--- Epoch {epoch+1}/{n_epochs} ---\")\n",
    "    \n",
    "    # === Phase d'entraînement ===\n",
    "    model.train()\n",
    "    running_loss = 0.0\n",
    "    for images, labels in train_loader:\n",
    "        optimizer.zero_grad()\n",
    "        outputs = model(images)\n",
    "        loss = criterion(outputs, labels)\n",
    "        loss.backward()\n",
    "        optimizer.step()\n",
    "        running_loss += loss.item()\n",
    "    print(f\"Train Loss: {running_loss/len(train_loader):.4f}\")\n",
    "    \n",
    "    # === Phase de validation ===\n",
    "    model.eval()\n",
    "    correct = 0\n",
    "    total = 0\n",
    "    with torch.no_grad():\n",
    "        for images, labels in val_loader:\n",
    "            outputs = model(images)\n",
    "            _, predicted = torch.max(outputs, 1)\n",
    "            total += labels.size(0)\n",
    "            correct += (predicted == labels).sum().item()\n",
    "    acc = 100 * correct / total\n",
    "    print(f\"Validation Accuracy: {acc:.2f}%\")\n",
    "    \n",
    "    # === Sauvegarde du meilleur modèle ===\n",
    "    if acc > best_acc:\n",
    "        best_acc = acc\n",
    "        torch.save(model.state_dict(), \"model_best.pth\")\n",
    "        print(\"💾 Modèle sauvegardé ! (meilleur jusqu'ici)\")\n"
   ]
  }
 ],
 "metadata": {
  "kernelspec": {
   "display_name": "hisvenv",
   "language": "python",
   "name": "python3"
  },
  "language_info": {
   "codemirror_mode": {
    "name": "ipython",
    "version": 3
   },
   "file_extension": ".py",
   "mimetype": "text/x-python",
   "name": "python",
   "nbconvert_exporter": "python",
   "pygments_lexer": "ipython3",
   "version": "3.10.11"
  }
 },
 "nbformat": 4,
 "nbformat_minor": 5
}
